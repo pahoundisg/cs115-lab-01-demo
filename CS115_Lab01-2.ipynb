{
  "nbformat": 4,
  "nbformat_minor": 5,
  "metadata": {
    "colab": {
      "provenance": []
    },
    "kernelspec": {
      "name": "python3",
      "language": "python",
      "display_name": "Python 3"
    },
    "language_info": {
      "name": "python",
      "version": "3"
    }
  },
  "cells": [
    {
      "cell_type": "markdown",
      "metadata": {
        "id": "qDrJM781K9tA"
      },
      "source": [
        "# CS 115 — Lab 01: Welcome to Programming with Colab\n",
        "Sonoma State University • Computer Science • Fall 2025  \n",
        "**Sections:** 001 / 002 / 003  \n",
        "**Instructor:** Andrew Bond (andrew.bond@sonoma.edu)\n",
        "\n",
        "This lab happens **before our first class session**. You don’t need any programming background! Today we’ll just:\n",
        "- Learn how to open and run a Colab notebook\n",
        "- Write your first Python commands\n",
        "- Add a short Markdown reflection\n",
        "\n",
        "**What to turn in:** Upload your completed notebook to Canvas at the end.\n"
      ],
      "id": "qDrJM781K9tA"
    },
    {
      "cell_type": "markdown",
      "metadata": {
        "id": "y6pCPKf8K9tD"
      },
      "source": [
        "## Warm-up (1 pt)\n",
        "Run the cell below. It should print today’s date and your Python version."
      ],
      "id": "y6pCPKf8K9tD"
    },
    {
      "cell_type": "code",
      "metadata": {
        "id": "warmup",
        "colab": {
          "base_uri": "https://localhost:8080/"
        },
        "outputId": "8b6f8bbd-3ed1-47dd-a648-e06e61bddfa2"
      },
      "execution_count": 7,
      "outputs": [
        {
          "output_type": "stream",
          "name": "stdout",
          "text": [
            "Python: 3.12.11\n",
            "Today: 2025-08-19\n"
          ]
        }
      ],
      "source": [
        "import sys, datetime\n",
        "print(\"Python:\", sys.version.split()[0])\n",
        "print(\"Today:\", datetime.date.today().isoformat())"
      ],
      "id": "warmup"
    },
    {
      "cell_type": "markdown",
      "metadata": {
        "id": "Nhxpt5bcK9tF"
      },
      "source": [
        "## Q1: Print your name (1 pt)\n",
        "Use the `print()` function to say hello with your name.\n",
        "\n",
        "**Example**:\n",
        "```python\n",
        "print(\"Hello, my name is Ada\")\n",
        "```"
      ],
      "id": "Nhxpt5bcK9tF"
    },
    {
      "cell_type": "code",
      "metadata": {
        "id": "q1",
        "colab": {
          "base_uri": "https://localhost:8080/"
        },
        "outputId": "c921eda5-8d76-48d1-92d8-2b3e6ee0db45"
      },
      "execution_count": 2,
      "outputs": [
        {
          "output_type": "stream",
          "name": "stdout",
          "text": [
            "Hello, my name is Gianna\n"
          ]
        }
      ],
      "source": [
        "# TODO: Change this to your own name\n",
        "print(\"Hello, my name is Gianna\")"
      ],
      "id": "q1"
    },
    {
      "cell_type": "markdown",
      "metadata": {
        "id": "Ur4OMukRK9tF"
      },
      "source": [
        "## Q2: Print some math (1 pt)\n",
        "Try using Python as a calculator. Print the answers to a few math problems.\n",
        "\n",
        "**Examples**:\n",
        "```python\n",
        "print(2 + 3)\n",
        "print(10 - 4)\n",
        "print(7 * 6)\n",
        "```"
      ],
      "id": "Ur4OMukRK9tF"
    },
    {
      "cell_type": "code",
      "metadata": {
        "id": "q2",
        "colab": {
          "base_uri": "https://localhost:8080/"
        },
        "outputId": "9ed7a7bb-7b86-45a3-f4fa-f097d6e7029c"
      },
      "execution_count": 4,
      "outputs": [
        {
          "output_type": "stream",
          "name": "stdout",
          "text": [
            "5\n",
            "6\n",
            "42\n",
            "99\n",
            "11\n",
            "21\n"
          ]
        }
      ],
      "source": [
        "# TODO: Add your own math expressions\n",
        "print(2 + 3)\n",
        "print(10 - 4)\n",
        "print(7 * 6)\n",
        "print(17+82)\n",
        "print(13-2)\n",
        "print(7*3)"
      ],
      "id": "q2"
    },
    {
      "cell_type": "markdown",
      "metadata": {
        "id": "iVoy2AfaK9tF"
      },
      "source": [
        "## Q3: Add some Markdown text (1 pt)\n",
        "Add a **Text cell** (instead of Code). Type something like:\n",
        "\n",
        "- This is my first lab in CS115!\n",
        "- I’m excited to learn Python.\n",
        "\n",
        "Try bold (**word**), italics (*word*), or a list.\n"
      ],
      "id": "iVoy2AfaK9tF"
    },
    {
      "cell_type": "markdown",
      "source": [
        "This is my first lab in CS115! **I am really excited to learn programing** *I am really excited to start the school year!*"
      ],
      "metadata": {
        "id": "5DrB7WbFLiLB"
      },
      "id": "5DrB7WbFLiLB"
    },
    {
      "cell_type": "markdown",
      "metadata": {
        "id": "XcsmTPVHK9tG"
      },
      "source": [
        "## Q4: Reflection (1 pt)\n",
        "Answer in a Text/Markdown cell:\n",
        "1. One thing I learned today:\n",
        "2. One question I still have:\n",
        "3. (If applicable) **AI usage note**: Did you use any AI tool? If so, what did you ask and how did you use the answer?\n"
      ],
      "id": "XcsmTPVHK9tG"
    },
    {
      "cell_type": "markdown",
      "source": [
        "One thing I learned today was about the existance of google colab, I am still learning how to navigate the website, and it might take me some time to get the hang of it. No, I did not use any Ai tool."
      ],
      "metadata": {
        "id": "UX3WB-KbL7_X"
      },
      "id": "UX3WB-KbL7_X"
    },
    {
      "cell_type": "markdown",
      "metadata": {
        "id": "qsPndynpK9tG"
      },
      "source": [
        "## Stretch (optional, ungraded)\n",
        "Edit this program to say something fun about you.\n"
      ],
      "id": "qsPndynpK9tG"
    },
    {
      "cell_type": "code",
      "metadata": {
        "id": "stretch"
      },
      "execution_count": null,
      "outputs": [],
      "source": [
        "print(\"Hello, world!\")\n",
        "print(\"Welcome to CS115!\")"
      ],
      "id": "stretch"
    },
    {
      "cell_type": "markdown",
      "metadata": {
        "id": "aBe6V0ABK9tG"
      },
      "source": [
        "_Last updated: August 19, 2025_"
      ],
      "id": "aBe6V0ABK9tG"
    },
    {
      "cell_type": "code",
      "source": [
        "print(\"Hello, world!\")\n",
        "print(\"Welcome to Computer Programing 1!\")"
      ],
      "metadata": {
        "colab": {
          "base_uri": "https://localhost:8080/"
        },
        "id": "vNxCgylvMbU4",
        "outputId": "b38d6980-1b06-4376-eb35-586ffc7358f0"
      },
      "id": "vNxCgylvMbU4",
      "execution_count": 6,
      "outputs": [
        {
          "output_type": "stream",
          "name": "stdout",
          "text": [
            "Hello, world!\n",
            "Welcome to Computer Programing 1!\n"
          ]
        }
      ]
    }
  ]
}